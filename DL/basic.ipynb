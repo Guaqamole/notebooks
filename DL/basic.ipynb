{
  "nbformat": 4,
  "nbformat_minor": 0,
  "metadata": {
    "colab": {
      "provenance": [],
      "authorship_tag": "ABX9TyOpevJDi7nFF/FVZsrmr/Ad"
    },
    "kernelspec": {
      "name": "python3",
      "display_name": "Python 3"
    },
    "language_info": {
      "name": "python"
    }
  },
  "cells": [
    {
      "cell_type": "code",
      "execution_count": 5,
      "metadata": {
        "id": "zM6yz9cZjYJJ"
      },
      "outputs": [],
      "source": [
        "import numpy as np\n",
        "\n",
        "class NeuralNetwork:\n",
        "  def __init__(self, inputnodes, hiddennodes, outputnodes, lr):\n",
        "\n",
        "    # Nodes\n",
        "    self.inodes = inputnodes\n",
        "    self.hnodes = hiddennodes\n",
        "    self.onodes = outputnodes\n",
        "    self.lr = lr\n",
        "\n",
        "    # Weights\n",
        "    self.wih = numpy.random.normal(0.0, pow(self.inodes, -0.5), (self.hnodes, self.inodes))\n",
        "    self.who = numpy.random.normal(0.0, pow(self.hnodes, -0.5), (self.onodes, self.hnodes))\n",
        "\n",
        "  def train():\n",
        "    pass\n",
        "\n",
        "  def query():\n",
        "    pass"
      ]
    },
    {
      "cell_type": "code",
      "source": [
        "nn = NeuralNetwork(3, 3, 3, 0.3)"
      ],
      "metadata": {
        "id": "jFDq45xiYLTd"
      },
      "execution_count": 3,
      "outputs": []
    },
    {
      "cell_type": "code",
      "source": [
        "np.random.normal(0, 1, (5,5))"
      ],
      "metadata": {
        "id": "q6ghA3nKZ3dy",
        "outputId": "d3f949da-72ab-428b-bd5f-b1bb4b1a5a40",
        "colab": {
          "base_uri": "https://localhost:8080/"
        }
      },
      "execution_count": 7,
      "outputs": [
        {
          "output_type": "execute_result",
          "data": {
            "text/plain": [
              "array([[-2.24246704,  1.80392707,  1.25442094, -0.39022085,  0.54226958],\n",
              "       [-0.24007465, -1.76373765, -1.01486854,  0.57119591,  2.03183907],\n",
              "       [-1.72741497, -0.30269127, -0.94477768, -0.18870536, -0.54965677],\n",
              "       [-1.38292075, -0.18794799, -0.245991  , -1.69813561,  0.26721255],\n",
              "       [ 1.48601181, -1.77079753, -0.14886407,  0.64443294, -0.52848036]])"
            ]
          },
          "metadata": {},
          "execution_count": 7
        }
      ]
    },
    {
      "cell_type": "code",
      "source": [],
      "metadata": {
        "id": "_O4Z81UrhNdB"
      },
      "execution_count": null,
      "outputs": []
    }
  ]
}